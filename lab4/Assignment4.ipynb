{
 "cells": [
  {
   "cell_type": "markdown",
   "metadata": {},
   "source": [
    "# Problem 1"
   ]
  },
  {
   "cell_type": "code",
   "execution_count": 16,
   "metadata": {},
   "outputs": [],
   "source": [
    "#Imports\n",
    "from scipy.optimize import linprog\n",
    "import math\n",
    "\n"
   ]
  },
  {
   "cell_type": "code",
   "execution_count": null,
   "metadata": {},
   "outputs": [
    {
     "name": "stdout",
     "output_type": "stream",
     "text": [
      "Optimal Production: X = 10, Y = 64, Max Profit = £21000\n"
     ]
    }
   ],
   "source": [
    "cost = [-200, -300]\n",
    "\n",
    "A = [\n",
    "    [15, 20],\n",
    "    [20, 30], \n",
    "]\n",
    "\n",
    "b = [2400, 2100]\n",
    "\n",
    "x_bounds = (10, None)\n",
    "y_bounds = (0, None)\n",
    "\n",
    "res = linprog(cost, A_ub=A, b_ub=b, bounds=[x_bounds, y_bounds], method='highs')\n",
    "\n",
    "x_opt, y_opt = res.x\n",
    "optimal_value = res.fun * (-1)\n",
    "\n",
    "print(f\"Optimal Production: X = {math.ceil(x_opt)}, Y = {math.ceil(y_opt)}, Max Profit = £{math.ceil(optimal_value)}\")\n",
    "\n"
   ]
  }
 ],
 "metadata": {
  "kernelspec": {
   "display_name": ".venv",
   "language": "python",
   "name": "python3"
  },
  "language_info": {
   "codemirror_mode": {
    "name": "ipython",
    "version": 3
   },
   "file_extension": ".py",
   "mimetype": "text/x-python",
   "name": "python",
   "nbconvert_exporter": "python",
   "pygments_lexer": "ipython3",
   "version": "3.13.1"
  }
 },
 "nbformat": 4,
 "nbformat_minor": 2
}
