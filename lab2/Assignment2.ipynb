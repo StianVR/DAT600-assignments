{
 "cells": [
  {
   "cell_type": "markdown",
   "metadata": {},
   "source": [
    "## Excercise 1"
   ]
  },
  {
   "cell_type": "code",
   "execution_count": null,
   "metadata": {},
   "outputs": [
    {
     "name": "stdout",
     "output_type": "stream",
     "text": [
      "Minimum cost: 145\n",
      "Optimal Parenthesization: (((A1 × (A2 × A3)) × A4) × A5)\n"
     ]
    }
   ],
   "source": [
    "import sys\n",
    "\n",
    "def matrix_chain_order(p):\n",
    "    n = len(p) - 1  # Number of matrices\n",
    "    m = [[0] * n for _ in range(n)]\n",
    "    s = [[0] * n for _ in range(n)]\n",
    "\n",
    "    for length in range(2, n + 1):  # Chain length\n",
    "        for i in range(n - length + 1):\n",
    "            j = i + length - 1\n",
    "            m[i][j] = sys.maxsize  # Initialize with large value\n",
    "            \n",
    "            for k in range(i, j):\n",
    "                cost = m[i][k] + m[k+1][j] + p[i] * p[k+1] * p[j+1]\n",
    "                if cost < m[i][j]:\n",
    "                    m[i][j] = cost\n",
    "                    s[i][j] = k\n",
    "\n",
    "    return m, s\n",
    "\n",
    "def print_optimal_parenthesization(s, i, j):\n",
    "    if i == j:\n",
    "        return f\"A{i+1}\"\n",
    "    else:\n",
    "        return f\"({print_optimal_parenthesization(s, i, s[i][j])} × {print_optimal_parenthesization(s, s[i][j] + 1, j)})\"\n",
    "\n",
    "# Example usage\n",
    "p = [3, 4, 5, 2, 3, 7]\n",
    "m, s = matrix_chain_order(p)\n",
    "\n",
    "# Print results\n",
    "print(\"Minimum cost:\", m[0][len(p)-2])\n",
    "print(\"Optimal Parenthesization:\", print_optimal_parenthesization(s, 0, len(p)-2))\n"
   ]
  },
  {
   "cell_type": "markdown",
   "metadata": {},
   "source": [
    "## Excercise 2"
   ]
  },
  {
   "cell_type": "code",
   "execution_count": 6,
   "metadata": {},
   "outputs": [
    {
     "name": "stdout",
     "output_type": "stream",
     "text": [
      "Items (Weight, Value): [(5, 63), (3, 85), (7, 81), (2, 33), (4, 17)]\n",
      "\n",
      "0-1 Knapsack Solution: Value = 229, Items Selected = [(7, 81), (3, 85), (5, 63)]\n",
      "\n",
      "Fractional Knapsack Solution: Value = 238.85714285714286, Items Selected (with fractions) = [(3, 1), (2, 1), (5, 1), (7, 0.7142857142857143)]\n"
     ]
    }
   ],
   "source": [
    "import random\n",
    "\n",
    "# Function to generate random items (weights and values)\n",
    "def generate_items(n, max_weight=10, max_value=100):\n",
    "    items = [(random.randint(1, max_weight), random.randint(10, max_value)) for _ in range(n)]\n",
    "    return items\n",
    "\n",
    "# 0-1 Knapsack using Dynamic Programming\n",
    "def knapsack_01(items, capacity):\n",
    "    n = len(items)\n",
    "    dp = [[0] * (capacity + 1) for _ in range(n + 1)]\n",
    "\n",
    "    for i in range(1, n + 1):\n",
    "        w, v = items[i - 1]  # Item weight and value\n",
    "        for c in range(capacity + 1):\n",
    "            if w > c:\n",
    "                dp[i][c] = dp[i - 1][c]  # Can't include the item\n",
    "            else:\n",
    "                dp[i][c] = max(dp[i - 1][c], dp[i - 1][c - w] + v)  # Include or exclude\n",
    "\n",
    "    # Finding selected items\n",
    "    selected_items = []\n",
    "    c = capacity\n",
    "    for i in range(n, 0, -1):\n",
    "        if dp[i][c] != dp[i - 1][c]:  # Item was included\n",
    "            selected_items.append(items[i - 1])\n",
    "            c -= items[i - 1][0]\n",
    "\n",
    "    return dp[n][capacity], selected_items  # Maximum value and selected items\n",
    "\n",
    "# Fractional Knapsack using Greedy Algorithm\n",
    "def knapsack_fractional(items, capacity):\n",
    "    items = sorted(items, key=lambda x: x[1] / x[0], reverse=True)  # Sort by value/weight ratio\n",
    "    total_value = 0\n",
    "    fractions = []\n",
    "\n",
    "    for w, v in items:\n",
    "        if capacity >= w:\n",
    "            total_value += v\n",
    "            capacity -= w\n",
    "            fractions.append((w, 1))  # Take full item\n",
    "        else:\n",
    "            fraction = capacity / w\n",
    "            total_value += v * fraction\n",
    "            fractions.append((w, fraction))  # Take fraction\n",
    "            break\n",
    "\n",
    "    return total_value, fractions  # Maximum value and fractions taken\n",
    "\n",
    "# Generate problem\n",
    "n = 5  # Number of items\n",
    "capacity = 15  # Knapsack capacity\n",
    "items = generate_items(n)\n",
    "\n",
    "# Solve problems\n",
    "value_01, selected_01 = knapsack_01(items, capacity)\n",
    "value_frac, selected_frac = knapsack_fractional(items, capacity)\n",
    "\n",
    "# Print results\n",
    "print(f\"Items (Weight, Value): {items}\")\n",
    "print(f\"\\n0-1 Knapsack Solution: Value = {value_01}, Items Selected = {selected_01}\")\n",
    "print(f\"\\nFractional Knapsack Solution: Value = {value_frac}, Items Selected (with fractions) = {selected_frac}\")"
   ]
  }
 ],
 "metadata": {
  "kernelspec": {
   "display_name": "Python 3",
   "language": "python",
   "name": "python3"
  },
  "language_info": {
   "codemirror_mode": {
    "name": "ipython",
    "version": 3
   },
   "file_extension": ".py",
   "mimetype": "text/x-python",
   "name": "python",
   "nbconvert_exporter": "python",
   "pygments_lexer": "ipython3",
   "version": "3.12.9"
  }
 },
 "nbformat": 4,
 "nbformat_minor": 2
}
