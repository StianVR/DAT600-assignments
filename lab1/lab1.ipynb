{
 "cells": [
  {
   "cell_type": "markdown",
   "metadata": {},
   "source": [
    "# Exercise 1\n"
   ]
  },
  {
   "cell_type": "code",
   "execution_count": 2,
   "metadata": {},
   "outputs": [],
   "source": [
    "#Insertion Sort\n",
    "\n",
    "def insertion_sort(arr):\n",
    "    steps = 0\n",
    "    for i in range(1, len(arr)):\n",
    "        key = arr[i]\n",
    "        j = i - 1\n",
    "        while j >= 0 and arr[j] > key:\n",
    "            arr[j + 1] = arr[j]\n",
    "            j -= 1\n",
    "            steps += 2\n",
    "        arr[j + 1] = key\n",
    "        steps += 1\n",
    "    return arr, steps\n"
   ]
  },
  {
   "cell_type": "code",
   "execution_count": null,
   "metadata": {},
   "outputs": [],
   "source": [
    "#merge sort\n",
    "\n",
    "def merge_sort(arr):\n",
    "    def merge(left, right):\n",
    "        merged = []\n",
    "        steps = 0\n",
    "        i = j = 0\n",
    "        while i < len(left) and j < len(right):\n",
    "            steps += 1\n",
    "            if left[i] < right[j]:\n",
    "                merged.append(left[i])\n",
    "                i += 1\n",
    "            else:\n",
    "                merged.append(right[j])\n",
    "                j += 1\n",
    "        merged.extend(left[i:])\n",
    "        merged.extend(right[j:])\n",
    "        steps += len(left) - i + len(right) - j\n",
    "        return merged, steps\n",
    "    \n",
    "    if len(arr) <= 1:\n",
    "        return arr, 0\n",
    "    \n",
    "    mid = len(arr) // 2\n",
    "    left, steps1 = merge_sort(arr[:mid])\n",
    "    right, steps2 = merge_sort(arr[mid:])\n",
    "    merged, steps3 = merge(left, right)\n",
    "    steps = steps1 + steps2 + steps3\n",
    "    return merged, steps\n",
    "\n"
   ]
  }
 ],
 "metadata": {
  "kernelspec": {
   "display_name": "Python 3",
   "language": "python",
   "name": "python3"
  },
  "language_info": {
   "codemirror_mode": {
    "name": "ipython",
    "version": 3
   },
   "file_extension": ".py",
   "mimetype": "text/x-python",
   "name": "python",
   "nbconvert_exporter": "python",
   "pygments_lexer": "ipython3",
   "version": "3.12.5"
  }
 },
 "nbformat": 4,
 "nbformat_minor": 2
}
